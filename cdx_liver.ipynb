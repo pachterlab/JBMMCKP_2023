{
  "cells": [
    {
      "cell_type": "markdown",
      "metadata": {
        "id": "view-in-github",
        "colab_type": "text"
      },
      "source": [
        "<a href=\"https://colab.research.google.com/github/pachterlab/JBMMCKP_2023/blob/main/cdx_liver.ipynb\" target=\"_parent\"><img src=\"https://colab.research.google.com/assets/colab-badge.svg\" alt=\"Open In Colab\"/></a>"
      ]
    },
    {
      "cell_type": "markdown",
      "id": "8b5b3397",
      "metadata": {
        "lines_to_next_cell": 0,
        "id": "8b5b3397"
      },
      "source": [
        "Enable R on Colab above with `Runtime > Change Runtime Type`"
      ]
    },
    {
      "cell_type": "code",
      "execution_count": null,
      "id": "14a5aca0",
      "metadata": {
        "name": "setup",
        "tags": [
          "remove_cell"
        ],
        "id": "14a5aca0"
      },
      "outputs": [],
      "source": [
        "system(\"git clone https://github.com/pachterlab/JBMMCKP_2023.git\")\n",
        "setwd(\"JBMMCKP_2023\")"
      ]
    },
    {
      "cell_type": "markdown",
      "source": [
        "These dependencies need special attention on Colab"
      ],
      "metadata": {
        "id": "dqoTECfSqWiO"
      },
      "id": "dqoTECfSqWiO"
    },
    {
      "cell_type": "code",
      "source": [
        "# Installation of  `magick` is req'd for some BioC packages,\n",
        "# but installation is halted on Colab\n",
        "system('add-apt-repository -y ppa:cran/imagemagick')\n",
        "system('apt-get update')\n",
        "system(\"apt-get install libmagick++-dev\")\n",
        "system(\"sudo apt-get install libgmp-dev\")\n",
        "\n",
        "install.packages(\"magick\")\n",
        "install.packages(\"fastcluster\")"
      ],
      "metadata": {
        "id": "iU9hmcWkqE9W"
      },
      "id": "iU9hmcWkqE9W",
      "execution_count": null,
      "outputs": []
    },
    {
      "cell_type": "markdown",
      "source": [
        "Install Bioconductor packages"
      ],
      "metadata": {
        "id": "XafNltzOqI3I"
      },
      "id": "XafNltzOqI3I"
    },
    {
      "cell_type": "code",
      "source": [
        "if (!require(\"BiocManager\", quietly = TRUE))\n",
        "    install.packages(\"BiocManager\")\n",
        "BiocManager::install(version = \"3.19\")\n",
        "\n",
        "# Install Bioconductor packages\n",
        "BiocManager::install(\"SpatialExperiment\")\n",
        "BiocManager::install(\"bluster\")\n",
        "BiocManager::install(\"scater\")\n",
        "BiocManager::install(\"mbkmeans\")"
      ],
      "metadata": {
        "id": "mrr_1RY9qHY5"
      },
      "id": "mrr_1RY9qHY5",
      "execution_count": null,
      "outputs": []
    },
    {
      "cell_type": "code",
      "source": [
        "devtools::install_github(\"pachterlab/concordexR\")"
      ],
      "metadata": {
        "id": "y04C4mmEqM33"
      },
      "id": "y04C4mmEqM33",
      "execution_count": null,
      "outputs": []
    },
    {
      "cell_type": "markdown",
      "id": "7b49faac",
      "metadata": {
        "id": "7b49faac"
      },
      "source": [
        "Load  `concordexR` and some extra libraries for plotting and utility functions."
      ]
    },
    {
      "cell_type": "code",
      "execution_count": null,
      "id": "56be65e1",
      "metadata": {
        "message": false,
        "name": "Load Libraries",
        "warning": false,
        "id": "56be65e1"
      },
      "outputs": [],
      "source": [
        "library(tidyr)\n",
        "library(dplyr)\n",
        "\n",
        "library(ggplot2)\n",
        "library(scattermore)\n",
        "library(fs)\n",
        "library(readr)\n",
        "\n",
        "\n",
        "library(concordexR)\n",
        "\n",
        "data_dir <- fs::path_wd(\"data\")"
      ]
    },
    {
      "cell_type": "markdown",
      "id": "9c7071e1",
      "metadata": {
        "lines_to_next_cell": 0,
        "id": "9c7071e1"
      },
      "source": [
        "# Load Data"
      ]
    },
    {
      "cell_type": "code",
      "execution_count": null,
      "id": "6ab1bf16",
      "metadata": {
        "id": "6ab1bf16"
      },
      "outputs": [],
      "source": [
        "meta <- read_csv(path(data_dir,\"liver/cell_meta.csv\"))"
      ]
    },
    {
      "cell_type": "markdown",
      "id": "9841945b",
      "metadata": {
        "id": "9841945b"
      },
      "source": [
        "# concordex Results"
      ]
    },
    {
      "cell_type": "code",
      "execution_count": null,
      "id": "c3e87e32",
      "metadata": {
        "name": "checker",
        "id": "c3e87e32"
      },
      "outputs": [],
      "source": [
        "# defaults to 30 nn\n",
        "set.seed(5296)\n",
        "\n",
        "coords <- meta[,c(\"center_x\",\"center_y\")]\n",
        "\n",
        "cdx <- calculateConcordex(\n",
        "    x=coords,\n",
        "    labels=as.character(meta$leiden),\n",
        "    BLUSPARAM=bluster::MbkmeansParam(4,50))\n",
        "\n",
        "cdx_pred <- attr(cdx, \"shrs\")\n",
        "pl_data <- dplyr::mutate(coords, shr=cdx_pred)"
      ]
    },
    {
      "cell_type": "markdown",
      "id": "81b75f53",
      "metadata": {
        "lines_to_next_cell": 0,
        "id": "81b75f53"
      },
      "source": [
        "# Plot SHRs"
      ]
    },
    {
      "cell_type": "code",
      "execution_count": null,
      "id": "d50880a5",
      "metadata": {
        "id": "d50880a5"
      },
      "outputs": [],
      "source": [
        "p <- ggplot(pl_data, aes(center_x, center_y, color=shr)) +\n",
        "    geom_scattermore() +\n",
        "    theme_minimal()\n",
        "\n",
        "p"
      ]
    },
    {
      "cell_type": "code",
      "execution_count": null,
      "id": "92fc056e",
      "metadata": {
        "lines_to_next_cell": 0,
        "id": "92fc056e"
      },
      "outputs": [],
      "source": [
        "mask <- between(meta$fov, 500, 999) # to match np.arange(500,1000)\n",
        "\n",
        "\n",
        "cdx_small <- calculateConcordex(\n",
        "    x=coords[mask,],\n",
        "    labels=as.character(meta$leiden)[mask],\n",
        "    BLUSPARAM=bluster::MbkmeansParam(4,50))\n",
        "\n",
        "\n",
        "cdx_pred <- attr(cdx, \"shrs\")\n",
        "pl_data <- dplyr::mutate(coords, shr=cdx_pred)\n"
      ]
    },
    {
      "cell_type": "markdown",
      "id": "c66c7f11",
      "metadata": {
        "id": "c66c7f11"
      },
      "source": [
        "# Session Info"
      ]
    },
    {
      "cell_type": "code",
      "source": [
        "sessionInfo()"
      ],
      "metadata": {
        "id": "H5rlXPg3qQyH"
      },
      "id": "H5rlXPg3qQyH",
      "execution_count": null,
      "outputs": []
    }
  ],
  "metadata": {
    "jupytext": {
      "cell_metadata_filter": "message,tags,warning,name,-all",
      "main_language": "R",
      "notebook_metadata_filter": "-all"
    },
    "colab": {
      "provenance": [],
      "include_colab_link": true
    },
    "language_info": {
      "name": "R"
    },
    "kernelspec": {
      "name": "ir",
      "display_name": "R"
    }
  },
  "nbformat": 4,
  "nbformat_minor": 5
}