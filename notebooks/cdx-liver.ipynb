{
 "cells": [
  {
   "cell_type": "raw",
   "id": "4bf15c51",
   "metadata": {},
   "source": [
    "---\n",
    "title: \"Concordex Liver Figures\"\n",
    "author: \"Kayla Jackson\"\n",
    "date: \"`r Sys.Date()`\"\n",
    "output: html_document\n",
    "---"
   ]
  },
  {
   "cell_type": "markdown",
   "id": "8b5b3397",
   "metadata": {
    "lines_to_next_cell": 0
   },
   "source": []
  },
  {
   "cell_type": "code",
   "execution_count": null,
   "id": "14a5aca0",
   "metadata": {
    "name": "setup",
    "tags": [
     "remove_cell"
    ]
   },
   "outputs": [],
   "source": [
    "library(knitr)\n",
    "\n",
    "# Set global chunk options\n",
    "opts_chunk$set(\n",
    "  echo = FALSE,     # Display R code in the output\n",
    "  warning = FALSE, # Suppress warnings\n",
    "  message = FALSE,  # Suppress messages\n",
    "  cache.extra=rand_seed\n",
    "\n",
    ")\n",
    "\n",
    "set.seed(5296)"
   ]
  },
  {
   "cell_type": "markdown",
   "id": "7b49faac",
   "metadata": {},
   "source": [
    "Load  `concordexR` and some extra libraries for plotting and utility functions. "
   ]
  },
  {
   "cell_type": "code",
   "execution_count": null,
   "id": "56be65e1",
   "metadata": {
    "message": false,
    "name": "Load Libraries",
    "warning": false
   },
   "outputs": [],
   "source": [
    "library(tidyr)\n",
    "library(dplyr)\n",
    "\n",
    "library(ggplot2)\n",
    "library(scattermore)\n",
    "library(fs)\n",
    "library(readr)\n",
    "\n",
    "# devtools::install_github(\"pachterlab/concordexR\")\n",
    "library(concordexR)\n",
    "\n",
    "data_dir <- fs::path_wd(\"data\")"
   ]
  },
  {
   "cell_type": "markdown",
   "id": "9c7071e1",
   "metadata": {
    "lines_to_next_cell": 0
   },
   "source": [
    "# Load Data\n",
    "All li"
   ]
  },
  {
   "cell_type": "code",
   "execution_count": null,
   "id": "6ab1bf16",
   "metadata": {},
   "outputs": [],
   "source": [
    "meta <- read_csv(path(data_dir,\"liver/cell_meta.csv\"))"
   ]
  },
  {
   "cell_type": "markdown",
   "id": "9841945b",
   "metadata": {},
   "source": [
    "# concordex Results"
   ]
  },
  {
   "cell_type": "code",
   "execution_count": null,
   "id": "c3e87e32",
   "metadata": {
    "name": "checker"
   },
   "outputs": [],
   "source": [
    "# defaults to 30 nn\n",
    "set.seed(5296)\n",
    "\n",
    "coords <- meta[,c(\"center_x\",\"center_y\")]\n",
    "\n",
    "cdx <- calculateConcordex(\n",
    "    x=coords,\n",
    "    labels=as.character(meta$leiden),\n",
    "    BLUSPARAM=bluster::MbkmeansParam(4,50))\n",
    "\n",
    "cdx_pred <- attr(cdx, \"shrs\")\n",
    "pl_data <- dplyr::mutate(coords, shr=cdx_pred)"
   ]
  },
  {
   "cell_type": "markdown",
   "id": "81b75f53",
   "metadata": {
    "lines_to_next_cell": 0
   },
   "source": [
    "# Plot SHRs"
   ]
  },
  {
   "cell_type": "code",
   "execution_count": null,
   "id": "d50880a5",
   "metadata": {},
   "outputs": [],
   "source": [
    "p <- ggplot(pl_data, aes(center_x, center_y, color=shr)) + \n",
    "    geom_scattermore() + \n",
    "    theme_minimal() \n",
    "\n",
    "p"
   ]
  },
  {
   "cell_type": "code",
   "execution_count": null,
   "id": "92fc056e",
   "metadata": {
    "lines_to_next_cell": 0
   },
   "outputs": [],
   "source": [
    "mask <- between(meta$fov, 500, 999) # to match np.arange(500,1000)\n",
    "\n",
    "\n",
    "cdx_small <- calculateConcordex(\n",
    "    x=coords[mask,],\n",
    "    labels=as.character(meta$leiden)[mask],\n",
    "    BLUSPARAM=bluster::MbkmeansParam(4,50))\n",
    "\n",
    "\n",
    "cdx_pred <- attr(cdx, \"shrs\")\n",
    "pl_data <- dplyr::mutate(coords, shr=cdx_pred)\n"
   ]
  },
  {
   "cell_type": "markdown",
   "id": "c66c7f11",
   "metadata": {},
   "source": []
  }
 ],
 "metadata": {
  "jupytext": {
   "cell_metadata_filter": "message,tags,warning,name,-all",
   "main_language": "R",
   "notebook_metadata_filter": "-all"
  }
 },
 "nbformat": 4,
 "nbformat_minor": 5
}
