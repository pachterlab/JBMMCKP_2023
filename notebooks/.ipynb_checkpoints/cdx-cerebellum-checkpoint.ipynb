{
 "cells": [
  {
   "cell_type": "raw",
   "id": "57189c4d",
   "metadata": {
    "lines_to_next_cell": 0
   },
   "source": [
    "---\n",
    "title: \"Concordex Cerebellum Figures\"\n",
    "output: html_notebook\n",
    "---"
   ]
  },
  {
   "cell_type": "code",
   "execution_count": null,
   "id": "e2be607a",
   "metadata": {
    "name": "setup",
    "tags": [
     "remove_cell"
    ]
   },
   "outputs": [],
   "source": [
    "library(knitr)\n",
    "\n",
    "# Set global chunk options\n",
    "opts_chunk$set(\n",
    "  echo = FALSE,     # Display R code in the output\n",
    "  warning = FALSE, # Suppress warnings\n",
    "  message = FALSE,  # Suppress messages\n",
    "  cache.extra=rand_seed\n",
    "\n",
    ")\n",
    "\n",
    "set.seed(5296)"
   ]
  },
  {
   "cell_type": "markdown",
   "id": "eb881443",
   "metadata": {},
   "source": [
    "Load  `concordexR` and some extra libraries for plotting and utility functions. "
   ]
  },
  {
   "cell_type": "code",
   "execution_count": null,
   "id": "0e4a6d81",
   "metadata": {
    "message": false,
    "name": "Load Libraries",
    "warning": false
   },
   "outputs": [],
   "source": [
    "library(tidyr)\n",
    "library(dplyr)\n",
    "\n",
    "# Needed for PCA results\n",
    "library(scuttle)\n",
    "library(scater)\n",
    "\n",
    "library(ggplot2)\n",
    "library(fs)\n",
    "library(readr)\n",
    "\n",
    "# devtools::install_github(\"pachterlab/concordexR\")\n",
    "library(concordexR)\n",
    "\n",
    "data_dir <- fs::path(\"data/cerebellum/\")"
   ]
  },
  {
   "cell_type": "markdown",
   "id": "8adce912",
   "metadata": {
    "lines_to_next_cell": 0
   },
   "source": [
    "Data obtained from [here](https://singlecell.broadinstitute.org/single_cell/study/SCP948/robust-decomposition-of-cell-type-mixtures-in-spatial-transcriptomics). \"Filtered\" dataset is one with \"Reject\" cells removed."
   ]
  },
  {
   "cell_type": "code",
   "execution_count": null,
   "id": "e0f66fe8",
   "metadata": {
    "message": false,
    "name": "Load Data"
   },
   "outputs": [],
   "source": [
    "counts <- read_csv(fs::path(data_dir, \"cerebellum_counts_filtered.csv\"))\n",
    "coords <- read_csv(fs::path(data_dir, \"cerebellum_coords.csv\"), col_names=FALSE)\n",
    "names(coords) <- c(\"x\",\"y\")\n",
    "\n",
    "# cell type assignments\n",
    "assignments <- read_csv(fs::path(data_dir, \"source/cell_assignments_filtered.csv\"))\n",
    "assignments <- assignments$first_type"
   ]
  },
  {
   "cell_type": "markdown",
   "id": "c47df1db",
   "metadata": {
    "lines_to_next_cell": 0
   },
   "source": [
    "Process data and perform PCA"
   ]
  },
  {
   "cell_type": "code",
   "execution_count": null,
   "id": "6d137f64",
   "metadata": {
    "name": "Perform PCA"
   },
   "outputs": [],
   "source": [
    "norm_counts <- normalizeCounts(counts, transform=\"log\")\n",
    "pca <- calculatePCA(norm_counts) # Columns are cells/spots"
   ]
  },
  {
   "cell_type": "markdown",
   "id": "f75ac861",
   "metadata": {
    "lines_to_next_cell": 0
   },
   "source": [
    "Now, compute concordex neighborhood consolidation matrix with cell type labels (discrete). Identify SHRs by providing a bluster clustering parameters object to the `BLUSPARAM` argument."
   ]
  },
  {
   "cell_type": "code",
   "execution_count": null,
   "id": "d426417e",
   "metadata": {
    "name": "Discrete Concordex"
   },
   "outputs": [],
   "source": [
    "# defaults to 30 nn\n",
    "set.seed(5296)\n",
    "\n",
    "cdx_discrete <- calculateConcordex(\n",
    "    x=coords,\n",
    "    labels=assignments,\n",
    "    BLUSPARAM=bluster::MbkmeansParam(4,50))\n",
    "\n",
    "cdx_pred <- attr(cdx_discrete, \"shrs\")\n",
    "pl_data <- dplyr::mutate(coords, shr=cdx_pred)"
   ]
  },
  {
   "cell_type": "code",
   "execution_count": null,
   "id": "ee3cf12b",
   "metadata": {
    "lines_to_next_cell": 0
   },
   "outputs": [],
   "source": [
    "p <- ggplot(pl_data, aes(x, y, color=shr)) + \n",
    "    geom_point(size=1) + \n",
    "    theme_minimal() +\n",
    "    scale_color_manual(values=c(\"#2CFFC6\",\"#007756\",\"#D5C711\",\"#005685\"))\n",
    "\n",
    "p"
   ]
  },
  {
   "cell_type": "markdown",
   "id": "2a413333",
   "metadata": {
    "lines_to_next_cell": 0
   },
   "source": [
    "Now, visualize the NbC matrix as a heatmap for the disrete labels"
   ]
  },
  {
   "cell_type": "code",
   "execution_count": null,
   "id": "7d094f11",
   "metadata": {},
   "outputs": [],
   "source": [
    "# Sort rows of neighborhood matrix for plotting\n",
    "hc <- fastcluster::hclust.vector(cdx_discrete, method='single')\n",
    "heat_data <- data.frame(hc_order=hc$order, sort_order=seq(nrow(cdx_discrete)))\n",
    "heat_data <- arrange(heat_data, hc_order)\n",
    "                        \n",
    "# Not ideal, but make cdx results dense\n",
    "heat_data <- cbind(heat_data, pl_data, as.matrix(cdx_discrete))\n",
    "heat_data <- arrange(heat_data, sort_order)\n",
    "\n",
    "heat_data$hc_order <- factor(heat_data$hc_order, levels=unique(heat_data$hc_order))\n",
    "                        "
   ]
  },
  {
   "cell_type": "markdown",
   "id": "0a5fe1e5",
   "metadata": {
    "lines_to_next_cell": 0
   },
   "source": [
    "Tidy data for heatmap"
   ]
  },
  {
   "cell_type": "code",
   "execution_count": null,
   "id": "8288de99",
   "metadata": {},
   "outputs": [],
   "source": [
    "layer_order <- c(\"OL\",\"GL\",\"PBL\",\"ML\")\n",
    "\n",
    "heat_data <- heat_data |>\n",
    "    pivot_longer(-c(hc_order, sort_order, x, y, shr)) |>\n",
    "    mutate(\n",
    "        shr_pretty = case_when(\n",
    "            shr == \"1\" ~ \"ML\",\n",
    "            shr == \"3\" ~ \"OL\",\n",
    "            shr == \"2\" ~ \"GL\",\n",
    "            TRUE ~ \"PBL\"),\n",
    "        shr_pretty = factor(shr_pretty, levels=layer_order))"
   ]
  },
  {
   "cell_type": "markdown",
   "id": "e4d0ee5f",
   "metadata": {
    "lines_to_next_cell": 0
   },
   "source": [
    "Plot heatmap"
   ]
  },
  {
   "cell_type": "code",
   "execution_count": null,
   "id": "5cb0f207",
   "metadata": {},
   "outputs": [],
   "source": [
    "p <- ggplot(heat_data, aes(x=name, y=hc_order)) +\n",
    "    geom_tile(aes(fill=value),linewidth=0) +\n",
    "    facet_grid(rows=vars(shr_pretty), scales='free_y',space='free_y', switch=\"y\") +\n",
    "    labs(fill = \"Fraction of\\nneighbors\") +\n",
    "    scale_x_discrete(expand=expansion(add=0)) +\n",
    "    scale_fill_distiller(\n",
    "        palette=\"Greys\",\n",
    "        limits=c(0, 1.1),\n",
    "        breaks=c(0,0.5,1)) + \n",
    "    theme_minimal() +\n",
    "    theme(\n",
    "        axis.title=element_blank(),\n",
    "        axis.text.y=element_blank(),\n",
    "        axis.text.x=element_text(angle=90, hjust=0.9),\n",
    "        strip.placement=\"outside\",\n",
    "    )\n",
    "\n",
    "p"
   ]
  },
  {
   "cell_type": "code",
   "execution_count": null,
   "id": "4cbcc51f",
   "metadata": {
    "name": "Continuous Concordex"
   },
   "outputs": [],
   "source": [
    "# defaults to 30 nn\n",
    "set.seed(5296)\n",
    "\n",
    "cdx_contin <- calculateConcordex(\n",
    "    x=coords,\n",
    "    labels=pca,\n",
    "    BLUSPARAM=bluster::MbkmeansParam(4,50))\n",
    "\n",
    "cdx_pred <- attr(cdx_contin, \"shrs\")\n",
    "pl_data <- dplyr::mutate(coords, shr=cdx_pred)"
   ]
  },
  {
   "cell_type": "code",
   "execution_count": null,
   "id": "d3b231f3",
   "metadata": {},
   "outputs": [],
   "source": [
    "p <- ggplot(pl_data, aes(x, y, color=shr)) + \n",
    "    geom_point(size=1) + \n",
    "    theme_minimal() +\n",
    "    scale_color_manual(values=c(\"#2CFFC6\",\"#007756\",\"#D5C711\",\"#005685\"))\n",
    "\n",
    "p"
   ]
  }
 ],
 "metadata": {
  "jupytext": {
   "cell_metadata_filter": "tags,message,name,warning,-all",
   "main_language": "R",
   "notebook_metadata_filter": "-all"
  }
 },
 "nbformat": 4,
 "nbformat_minor": 5
}
