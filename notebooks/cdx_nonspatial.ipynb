{
  "cells": [
    {
      "cell_type": "markdown",
      "metadata": {
        "id": "view-in-github",
        "colab_type": "text"
      },
      "source": [
        "<a href=\"https://colab.research.google.com/github/pachterlab/JBMMCKP_2023/blob/main/cdx_nonspatial.ipynb\" target=\"_parent\"><img src=\"https://colab.research.google.com/assets/colab-badge.svg\" alt=\"Open In Colab\"/></a>"
      ]
    },
    {
      "cell_type": "raw",
      "id": "770c650b",
      "metadata": {
        "lines_to_next_cell": 0,
        "id": "770c650b"
      },
      "source": [
        "connect to R runtime above with `Runtime > Change Runtime Type`"
      ]
    },
    {
      "cell_type": "code",
      "execution_count": null,
      "id": "7f5742c9",
      "metadata": {
        "name": "setup",
        "root.dir": "..",
        "tags": [
          "remove_cell"
        ],
        "id": "7f5742c9"
      },
      "outputs": [],
      "source": [
        "system(\"git clone https://github.com/pachterlab/JBMMCKP_2023.git\")\n",
        "setwd(\"JBMMCKP_2023\")"
      ]
    },
    {
      "cell_type": "markdown",
      "source": [
        "Install `magick` and `fastcluster` on Colab"
      ],
      "metadata": {
        "id": "HmneVKj_pCzw"
      },
      "id": "HmneVKj_pCzw"
    },
    {
      "cell_type": "code",
      "source": [
        "# Installation of  `magick` is req'd for some BioC packages,\n",
        "# but installation is halted on Colab\n",
        "system('add-apt-repository -y ppa:cran/imagemagick')\n",
        "system('apt-get update')\n",
        "system(\"apt-get install libmagick++-dev\")\n",
        "system(\"sudo apt-get install libgmp-dev\")\n",
        "\n",
        "install.packages(\"magick\")\n",
        "install.packages(\"fastcluster\")"
      ],
      "metadata": {
        "id": "18yVdKXAo4F0"
      },
      "id": "18yVdKXAo4F0",
      "execution_count": null,
      "outputs": []
    },
    {
      "cell_type": "markdown",
      "source": [
        "Install Bioconductor packages"
      ],
      "metadata": {
        "id": "-rxnpPVEo9x1"
      },
      "id": "-rxnpPVEo9x1"
    },
    {
      "cell_type": "code",
      "source": [
        "if (!require(\"BiocManager\", quietly = TRUE))\n",
        "    install.packages(\"BiocManager\")\n",
        "BiocManager::install(version = \"3.19\")\n",
        "\n",
        "# Install Bioconductor packages\n",
        "BiocManager::install(\"SpatialExperiment\")\n",
        "BiocManager::install(\"bluster\")\n",
        "BiocManager::install(\"scater\")\n",
        "BiocManager::install(\"mbkmeans\")"
      ],
      "metadata": {
        "id": "mLcRtQKko5xq"
      },
      "id": "mLcRtQKko5xq",
      "execution_count": null,
      "outputs": []
    },
    {
      "cell_type": "code",
      "source": [
        " devtools::install_github(\"pachterlab/concordexR\")"
      ],
      "metadata": {
        "id": "k0ogekJOo7rh"
      },
      "id": "k0ogekJOo7rh",
      "execution_count": null,
      "outputs": []
    },
    {
      "cell_type": "markdown",
      "id": "96e98b0b",
      "metadata": {
        "id": "96e98b0b"
      },
      "source": [
        "Load  `concordexR` and some extra libraries for plotting and utility functions."
      ]
    },
    {
      "cell_type": "code",
      "execution_count": null,
      "id": "bdb4b071",
      "metadata": {
        "message": false,
        "name": "Load Libraries",
        "warning": false,
        "id": "bdb4b071"
      },
      "outputs": [],
      "source": [
        "library(tidyr)\n",
        "library(dplyr)\n",
        "library(glue)\n",
        "\n",
        "library(ggplot2)\n",
        "library(patchwork)\n",
        "library(scattermore)\n",
        "library(fs)\n",
        "library(readr)\n",
        "library(vroom)\n",
        "\n",
        "# devtools::install_github(\"pachterlab/concordexR\")\n",
        "library(concordexR)\n",
        "\n",
        "data_dir <- path_wd(\"data/nonspatial\")\n",
        "# data_dir"
      ]
    },
    {
      "cell_type": "markdown",
      "id": "69ca183d",
      "metadata": {
        "lines_to_next_cell": 0,
        "id": "69ca183d"
      },
      "source": [
        "Set some constants and load data"
      ]
    },
    {
      "cell_type": "code",
      "execution_count": null,
      "id": "07770d4d",
      "metadata": {
        "id": "07770d4d"
      },
      "outputs": [],
      "source": [
        "# Change to `ss` to generate stabilized, scaled plots\n",
        "norm_method <- \"log\" # OR \"ss\"\n",
        "small_clusts <- paste0('cluster_', 14:19)\n"
      ]
    },
    {
      "cell_type": "markdown",
      "id": "cdb35c8c",
      "metadata": {
        "lines_to_next_cell": 0,
        "id": "cdb35c8c"
      },
      "source": [
        "# Load Data"
      ]
    },
    {
      "cell_type": "code",
      "execution_count": null,
      "id": "8ffdea71",
      "metadata": {
        "name": "Load Data",
        "id": "8ffdea71"
      },
      "outputs": [],
      "source": [
        "# Load UMAP coordinates\n",
        "meta <- read_csv(path(data_dir, \"umap-coords.csv\"))\n",
        "meta <- meta %>% mutate(cluster=paste(\"Cluster\",cluster))\n",
        "\n",
        "pca <- vroom(\n",
        "  path(data_dir,glue(\"pca-{norm_method}.csv\")),\n",
        "  col_names=FALSE)"
      ]
    },
    {
      "cell_type": "markdown",
      "id": "c2884829",
      "metadata": {
        "id": "c2884829"
      },
      "source": [
        "# concordex Results\n",
        "## Using UMAP/PCA coordinates and cluster labels"
      ]
    },
    {
      "cell_type": "code",
      "execution_count": null,
      "id": "d8a23bef",
      "metadata": {
        "lines_to_next_cell": 0,
        "name": "Concordex-UMAP-clust",
        "id": "d8a23bef"
      },
      "outputs": [],
      "source": [
        "coord_labs <- glue(\"umap_{norm_method}_{c('x','y')}\")\n",
        "coords <- meta[,coord_labs]\n",
        "\n",
        "cdx_clust <- calculateConcordex(\n",
        "    x=coords,\n",
        "    labels=as.character(meta$cluster),\n",
        "    compute_similarity=TRUE\n",
        ")"
      ]
    },
    {
      "cell_type": "markdown",
      "id": "35f3f2cf",
      "metadata": {
        "lines_to_next_cell": 0,
        "id": "35f3f2cf"
      },
      "source": [
        "Arrange rows of heatmap for plotting"
      ]
    },
    {
      "cell_type": "code",
      "execution_count": null,
      "id": "6972b179",
      "metadata": {
        "lines_to_next_cell": 0,
        "id": "6972b179"
      },
      "outputs": [],
      "source": [
        "# Sort rows of neighborhood matrix for plotting\n",
        "hc <- fastcluster::hclust.vector(cdx_clust, method='single')\n",
        "heat_data <- data.frame(hc_order=hc$order, sort_order=seq(nrow(cdx_clust)))\n",
        "heat_data <- arrange(heat_data, hc_order)\n",
        "\n",
        "# Not ideal, but make cdx results dense\n",
        "heat_data <- cbind(heat_data, meta['cluster'], as.matrix(cdx_clust))\n",
        "heat_data <- arrange(heat_data, sort_order)\n",
        "\n",
        "heat_data$hc_order <- factor(heat_data$hc_order, levels=unique(heat_data$hc_order))"
      ]
    },
    {
      "cell_type": "markdown",
      "id": "aae7c6a3",
      "metadata": {
        "lines_to_next_cell": 0,
        "id": "aae7c6a3"
      },
      "source": [
        "Plot heatmap"
      ]
    },
    {
      "cell_type": "code",
      "execution_count": null,
      "id": "2bc5bfc1",
      "metadata": {
        "name": "Plot Concordex-UMAP-clust",
        "id": "2bc5bfc1"
      },
      "outputs": [],
      "source": [
        "heat_data <- heat_data |>\n",
        "    pivot_longer(-c(hc_order, sort_order, cluster))\n",
        "\n",
        "sim_data <- attr(cdx_clust,'similarity')\n",
        "sim_data <- data.frame(cluster=dimnames(sim_data)[[1]],sim_data) |>\n",
        "  pivot_longer(-cluster)\n",
        "\n",
        "s <- ggplot(sim_data, aes(x=name, y=cluster)) +\n",
        "  geom_tile(aes(fill=value), linewidth=0) +\n",
        "  theme_minimal() +\n",
        "    theme(\n",
        "        axis.title=element_blank(),\n",
        "        axis.text.x=element_text(angle=90, hjust=0.9),\n",
        "        strip.placement=\"outside\",\n",
        "    )\n",
        "p <- ggplot(heat_data, aes(x=name, y=hc_order)) +\n",
        "    geom_tile(aes(fill=value),linewidth=0) +\n",
        "    facet_grid(rows=vars(cluster), scales='free_y', switch=\"y\") +\n",
        "    labs(fill = \"Fraction of\\nneighbors\") +\n",
        "    scale_x_discrete(expand=expansion(add=0)) +\n",
        "    scale_fill_distiller(\n",
        "        palette=\"Greys\",\n",
        "        limits=c(0, 1.1),\n",
        "        breaks=c(0,0.5,1)) +\n",
        "    theme_minimal() +\n",
        "    theme(\n",
        "        axis.title=element_blank(),\n",
        "        axis.text.y=element_blank(),\n",
        "        axis.text.x=element_text(angle=90, hjust=0.9),\n",
        "        strip.placement=\"outside\",\n",
        "    )\n",
        "\n",
        "s|p"
      ]
    },
    {
      "cell_type": "markdown",
      "id": "51b03054",
      "metadata": {
        "lines_to_next_cell": 0,
        "id": "51b03054"
      },
      "source": [
        "Now, compute concordex NbC using PCA coordinates and cluster labels"
      ]
    },
    {
      "cell_type": "code",
      "execution_count": null,
      "id": "232e934e",
      "metadata": {
        "name": "Concordex-PCA-clust",
        "id": "232e934e"
      },
      "outputs": [],
      "source": [
        "cdx_clust <- calculateConcordex(\n",
        "    x=pca,\n",
        "    labels=as.character(meta$cluster),\n",
        "    compute_similarity=TRUE\n",
        ")"
      ]
    },
    {
      "cell_type": "markdown",
      "id": "58df7e4c",
      "metadata": {
        "lines_to_next_cell": 0,
        "id": "58df7e4c"
      },
      "source": [
        "Arrange rows of heatmap for plotting"
      ]
    },
    {
      "cell_type": "code",
      "execution_count": null,
      "id": "d49c07a9",
      "metadata": {
        "lines_to_next_cell": 0,
        "id": "d49c07a9"
      },
      "outputs": [],
      "source": [
        "# Sort rows of neighborhood matrix for plotting\n",
        "hc <- fastcluster::hclust.vector(cdx_clust, method='single')\n",
        "heat_data <- data.frame(hc_order=hc$order, sort_order=seq(nrow(cdx_clust)))\n",
        "heat_data <- arrange(heat_data, hc_order)\n",
        "\n",
        "# Not ideal, but make cdx results dense\n",
        "heat_data <- cbind(heat_data, meta['cluster'], as.matrix(cdx_clust))\n",
        "heat_data <- arrange(heat_data, sort_order)\n",
        "\n",
        "heat_data$hc_order <- factor(heat_data$hc_order, levels=unique(heat_data$hc_order))"
      ]
    },
    {
      "cell_type": "markdown",
      "id": "2d00946d",
      "metadata": {
        "lines_to_next_cell": 0,
        "id": "2d00946d"
      },
      "source": [
        "Plot heatmap"
      ]
    },
    {
      "cell_type": "code",
      "execution_count": null,
      "id": "687027ce",
      "metadata": {
        "name": "Plot Concordex-PCA-clust",
        "id": "687027ce"
      },
      "outputs": [],
      "source": [
        "heat_data <- heat_data |>\n",
        "    pivot_longer(-c(hc_order, sort_order, cluster))\n",
        "\n",
        "sim_data <- attr(cdx_clust,'similarity')\n",
        "sim_data <- data.frame(cluster=dimnames(sim_data)[[1]],sim_data) |>\n",
        "  pivot_longer(-cluster)\n",
        "\n",
        "s <- ggplot(sim_data, aes(x=name, y=cluster)) +\n",
        "  geom_tile(aes(fill=value), linewidth=0) +\n",
        "  theme_minimal() +\n",
        "    theme(\n",
        "        axis.title=element_blank(),\n",
        "        axis.text.x=element_text(angle=90, hjust=0.9),\n",
        "        strip.placement=\"outside\",\n",
        "    )\n",
        "p <- ggplot(heat_data, aes(x=name, y=hc_order)) +\n",
        "    geom_tile(aes(fill=value),linewidth=0) +\n",
        "    facet_grid(rows=vars(cluster), scales='free_y', switch=\"y\") +\n",
        "    labs(fill = \"Fraction of\\nneighbors\") +\n",
        "    scale_x_discrete(expand=expansion(add=0)) +\n",
        "    scale_fill_distiller(\n",
        "        palette=\"Greys\",\n",
        "        limits=c(0, 1.1),\n",
        "        breaks=c(0,0.5,1)) +\n",
        "    theme_minimal() +\n",
        "    theme(\n",
        "        axis.title=element_blank(),\n",
        "        axis.text.y=element_blank(),\n",
        "        axis.text.x=element_text(angle=90, hjust=0.9),\n",
        "        strip.placement=\"outside\",\n",
        "    )\n",
        "\n",
        "s|p"
      ]
    },
    {
      "cell_type": "markdown",
      "id": "8b511b51",
      "metadata": {
        "lines_to_next_cell": 0,
        "id": "8b511b51"
      },
      "source": [
        "## Using UMAP/PCA coordinates and growth condition (utero) labels"
      ]
    },
    {
      "cell_type": "code",
      "execution_count": null,
      "id": "1a633311",
      "metadata": {
        "lines_to_next_cell": 0,
        "name": "Concordex-UMAP-utero",
        "id": "1a633311"
      },
      "outputs": [],
      "source": [
        "coord_labs <- glue(\"umap_{norm_method}_{c('x','y')}\")\n",
        "coords <- meta[,coord_labs]\n",
        "\n",
        "cdx_utero <- calculateConcordex(\n",
        "    x=coords,\n",
        "    labels=as.character(meta$utero),\n",
        "    compute_similarity=TRUE\n",
        ")"
      ]
    },
    {
      "cell_type": "markdown",
      "id": "1d44e148",
      "metadata": {
        "lines_to_next_cell": 0,
        "id": "1d44e148"
      },
      "source": [
        "Arrange rows of heatmap for plotting"
      ]
    },
    {
      "cell_type": "code",
      "execution_count": null,
      "id": "400b4517",
      "metadata": {
        "lines_to_next_cell": 0,
        "id": "400b4517"
      },
      "outputs": [],
      "source": [
        "# Sort rows of neighborhood matrix for plotting\n",
        "hc <- fastcluster::hclust.vector(cdx_utero, method='single')\n",
        "heat_data <- data.frame(hc_order=hc$order, sort_order=seq(nrow(cdx_utero)))\n",
        "heat_data <- arrange(heat_data, hc_order)\n",
        "\n",
        "# Not ideal, but make cdx results dense\n",
        "heat_data <- cbind(heat_data, meta['utero'], as.matrix(cdx_utero))\n",
        "heat_data <- arrange(heat_data, sort_order)\n",
        "\n",
        "heat_data$hc_order <- factor(heat_data$hc_order, levels=unique(heat_data$hc_order))"
      ]
    },
    {
      "cell_type": "markdown",
      "id": "ee03331c",
      "metadata": {
        "lines_to_next_cell": 0,
        "id": "ee03331c"
      },
      "source": [
        "Plot heatmap"
      ]
    },
    {
      "cell_type": "code",
      "execution_count": null,
      "id": "9014e12f",
      "metadata": {
        "name": "Plot Concordex-UMAP-utero",
        "id": "9014e12f"
      },
      "outputs": [],
      "source": [
        "heat_data <- heat_data |>\n",
        "    pivot_longer(-c(hc_order, sort_order, utero))\n",
        "\n",
        "sim_data <- attr(cdx_clust,'similarity')\n",
        "sim_data <- data.frame(utero=dimnames(sim_data)[[1]],sim_data) |>\n",
        "  pivot_longer(-cluster)\n",
        "\n",
        "s <- ggplot(sim_data, aes(x=name, y=utero)) +\n",
        "  geom_tile(aes(fill=value), linewidth=0) +\n",
        "  theme_minimal() +\n",
        "    theme(\n",
        "        axis.title=element_blank(),\n",
        "        axis.text.x=element_text(angle=90, hjust=0.9),\n",
        "        strip.placement=\"outside\",\n",
        "    )\n",
        "p <- ggplot(heat_data, aes(x=name, y=hc_order)) +\n",
        "    geom_tile(aes(fill=value),linewidth=0) +\n",
        "    facet_grid(rows=vars(utero), scales='free_y', switch=\"y\") +\n",
        "    labs(fill = \"Fraction of\\nneighbors\") +\n",
        "    scale_x_discrete(expand=expansion(add=0)) +\n",
        "    scale_fill_distiller(\n",
        "        palette=\"Greys\",\n",
        "        limits=c(0, 1.1),\n",
        "        breaks=c(0,0.5,1)) +\n",
        "    theme_minimal() +\n",
        "    theme(\n",
        "        axis.title=element_blank(),\n",
        "        axis.text.y=element_blank(),\n",
        "        axis.text.x=element_text(angle=90, hjust=0.9),\n",
        "        strip.placement=\"outside\",\n",
        "    )\n",
        "\n",
        "s|p"
      ]
    },
    {
      "cell_type": "markdown",
      "id": "355f2fc1",
      "metadata": {
        "lines_to_next_cell": 0,
        "id": "355f2fc1"
      },
      "source": [
        "Now, compute concordex NbC using PCA coordinates and utero labels"
      ]
    },
    {
      "cell_type": "code",
      "execution_count": null,
      "id": "ef5c953d",
      "metadata": {
        "name": "Concordex-PCA-utero",
        "id": "ef5c953d"
      },
      "outputs": [],
      "source": [
        "cdx_utero <- calculateConcordex(\n",
        "    x=pca,\n",
        "    labels=as.character(meta$utero),\n",
        "    compute_similarity=TRUE\n",
        ")"
      ]
    },
    {
      "cell_type": "markdown",
      "id": "a7f87d69",
      "metadata": {
        "lines_to_next_cell": 0,
        "id": "a7f87d69"
      },
      "source": [
        "Arrange rows of heatmap for plotting"
      ]
    },
    {
      "cell_type": "code",
      "execution_count": null,
      "id": "308c5c78",
      "metadata": {
        "lines_to_next_cell": 0,
        "id": "308c5c78"
      },
      "outputs": [],
      "source": [
        "# Sort rows of neighborhood matrix for plotting\n",
        "hc <- fastcluster::hclust.vector(cdx_utero, method='single')\n",
        "heat_data <- data.frame(hc_order=hc$order, sort_order=seq(nrow(cdx_utero)))\n",
        "heat_data <- arrange(heat_data, hc_order)\n",
        "\n",
        "# Not ideal, but make cdx results dense\n",
        "heat_data <- cbind(heat_data, meta['utero'], as.matrix(cdx_utero))\n",
        "heat_data <- arrange(heat_data, sort_order)\n",
        "\n",
        "heat_data$hc_order <- factor(heat_data$hc_order, levels=unique(heat_data$hc_order))"
      ]
    },
    {
      "cell_type": "markdown",
      "id": "434f4ae0",
      "metadata": {
        "lines_to_next_cell": 0,
        "id": "434f4ae0"
      },
      "source": [
        "Plot heatmap"
      ]
    },
    {
      "cell_type": "code",
      "execution_count": null,
      "id": "0cc54849",
      "metadata": {
        "name": "Plot Concordex-PCA-utero",
        "id": "0cc54849"
      },
      "outputs": [],
      "source": [
        "heat_data <- heat_data |>\n",
        "    pivot_longer(-c(hc_order, sort_order, utero))\n",
        "\n",
        "sim_data <- attr(cdx_clust,'similarity')\n",
        "\n",
        "sim_data <- data.frame(utero=dimnames(sim_data)[[1]],sim_data) |>\n",
        "  pivot_longer(-utero)\n",
        "\n",
        "s <- ggplot(sim_data, aes(x=name, y=utero)) +\n",
        "  geom_tile(aes(fill=value), linewidth=0) +\n",
        "  theme_minimal() +\n",
        "    theme(\n",
        "        axis.title=element_blank(),\n",
        "        axis.text.x=element_text(angle=90, hjust=0.9),\n",
        "        strip.placement=\"outside\",\n",
        "    )\n",
        "p <- ggplot(heat_data, aes(x=name, y=hc_order)) +\n",
        "    geom_tile(aes(fill=value),linewidth=0) +\n",
        "    facet_grid(rows=vars(utero), scales='free_y', switch=\"y\") +\n",
        "    labs(fill = \"Fraction of\\nneighbors\") +\n",
        "    scale_x_discrete(expand=expansion(add=0)) +\n",
        "    scale_fill_distiller(\n",
        "        palette=\"Greys\",\n",
        "        limits=c(0, 1.1),\n",
        "        breaks=c(0,0.5,1)) +\n",
        "    theme_minimal() +\n",
        "    theme(\n",
        "        axis.title=element_blank(),\n",
        "        axis.text.y=element_blank(),\n",
        "        axis.text.x=element_text(angle=90, hjust=0.9),\n",
        "        strip.placement=\"outside\",\n",
        "    )\n",
        "\n",
        "s|p"
      ]
    }
  ],
  "metadata": {
    "jupytext": {
      "cell_metadata_filter": "root.dir,warning,tags,message,name,-all",
      "main_language": "R",
      "notebook_metadata_filter": "-all"
    },
    "colab": {
      "provenance": [],
      "include_colab_link": true
    }
  },
  "nbformat": 4,
  "nbformat_minor": 5
}
